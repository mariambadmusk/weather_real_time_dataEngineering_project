{
 "cells": [
  {
   "cell_type": "code",
   "execution_count": 1,
   "metadata": {},
   "outputs": [
    {
     "name": "stderr",
     "output_type": "stream",
     "text": [
      "C:\\Users\\kike_\\AppData\\Local\\Temp\\ipykernel_5220\\3627899825.py:4: DeprecationWarning: Importing display from IPython.core.display is deprecated since IPython 7.14, please import from IPython display\n",
      "  from IPython.core.display import display,HTML\n"
     ]
    }
   ],
   "source": [
    "import requests\n",
    "import pandas as pd\n",
    "from datetime import datetime\n",
    "from IPython.core.display import display,HTML\n",
    "import boto3\n",
    "from botocore.exceptions import NoCredentialsError\n",
    "import os\n",
    "from extract_weather_data import weather_data"
   ]
  },
  {
   "cell_type": "code",
   "execution_count": null,
   "metadata": {},
   "outputs": [],
   "source": [
    "def get_weather_api():\n",
    "    url = \"http://api.weatherstack.com/current\"\n",
    "    querystring = {\"access_key\" : weather_access_key, \"query\": \"London\"}\n",
    "\n",
    "    try:\n",
    "        response = requests.get(url, params=querystring)\n",
    "        response.raise_for_status()\n",
    "        return response.json()\n",
    "    except requests.exceptions.RequestException as e:\n",
    "        print(f\"Request failed: {e}\")\n",
    "        return None"
   ]
  },
  {
   "cell_type": "code",
   "execution_count": null,
   "metadata": {},
   "outputs": [],
   "source": [
    "\n",
    "def create_dataframe(response):\n",
    "    weather_data = {\n",
    "            \"city\": response[\"request\"][\"query\"],\n",
    "            \"local_time\": response[\"location\"][\"localtime\"],\n",
    "            \"observation_time\": response[\"current\"][\"observation_time\"],\n",
    "            \"temperature\": response[\"current\"][\"temperature\"],\n",
    "            \"weather_description\": response[\"current\"][\"weather_descriptions\"][0], \n",
    "            \"wind_speed\": response[\"current\"][\"wind_speed\"],\n",
    "            \"wind_degree\": response[\"current\"][\"wind_degree\"],\n",
    "            \"precipitation\": response[\"current\"][\"precip\"],\n",
    "            \"humidity\": response[\"current\"][\"humidity\"],\n",
    "            \"cloudcover\": response[\"current\"][\"cloudcover\"],\n",
    "            \"feelslike\": response[\"current\"][\"feelslike\"],\n",
    "            \"uv_index\": response[\"current\"][\"uv_index\"],\n",
    "            \"visibility\": response[\"current\"][\"visibility\"]\n",
    "        }\n",
    "    weather_df = pd.DataFrame(weather_data)\n",
    "\n",
    "    return weather_df"
   ]
  },
  {
   "cell_type": "code",
   "execution_count": null,
   "metadata": {},
   "outputs": [],
   "source": [
    "\n",
    "def standardise_weather_df_columns(weather_df):\n",
    "    \"\"\" \n",
    "    standardises the weather_df\n",
    "    - Splits 'local_time' into 'localDate' and 'localTime' columns.\n",
    "    - Converts 'observation_time' from 12-hour format to 24-hour format.\n",
    "    - Converts 'wind_speed' from km/h to m/h.\n",
    "\n",
    "    Parameters\n",
    "    pyspark.sql.DataFrame:  weather_df\n",
    "\n",
    "    Returns \n",
    "    pyspark.sql.DataFrame: The transformed weather DataFrame.\n",
    "    \"\"\"\n",
    "\n",
    "    #split local_time to date and time columns\n",
    "    weather_df[['localDate', 'localTime']] = weather_df['local_time'].str.split(' ', expand=True)\n",
    "    weather_df.drop(columns = [\"local_time\"], inplace = True)\n",
    "    weather_data = weather_data.drop(\"localDate\")\n",
    "\n",
    "    #change observation time from 12 hours to 24 hours\n",
    "    weather_df['observation_time'] = pd.to_datetime(weather_df['observation_time'], format='%I:%M:%S %p')\n",
    "    weather_df['observation_time'] = weather_df['observation_time'].datetime.strftime('%H:%M')\n",
    "    \n",
    "    #converts the wind_speed from km/h to m/h \n",
    "    weather_df[\"wind_speed\"] = weather_df[\"wind_speed\"] * 1000 /1.609"
   ]
  },
  {
   "cell_type": "code",
   "execution_count": null,
   "metadata": {},
   "outputs": [],
   "source": [
    "def upload_to_bucket(weather_data):\n",
    "\n",
    "    if weather_data is not None:\n",
    "        s3_client = boto3.client('s3',\n",
    "                         aws_access_key_id = aws_access_key,\n",
    "                         aws_secret_access_key =aws_secret_key,\n",
    "                         region_name='eu-west-2'\n",
    "                        )\n",
    "    \n",
    "        bucket = \"weather_data\"\n",
    "        object = \"raw_weather_data\"\n",
    "\n",
    "        try:\n",
    "            s3_client.put_object(\n",
    "                Bucket = bucket,\n",
    "                Key = object,\n",
    "                Body = weather_data.encode('utf-8')\n",
    "                ContentType = 'application/json'\n",
    "            )\n",
    "        except PartialCredentialsError:\n",
    "            print(\"Partial credentials provided, please check your access key and secret key\")\n",
    "        except NoCredentialsError:\n",
    "            print(\"Credentials not available or incorrect\")\n",
    "        except Exception as e:\n",
    "            print(f\"Upload to s3://weather_data/raw_weather_data failed: {e}\")\n",
    "\n",
    "    else:\n",
    "        print(\"No weather data to upload.\")\n",
    "        return "
   ]
  },
  {
   "cell_type": "code",
   "execution_count": null,
   "metadata": {},
   "outputs": [],
   "source": [
    "def fetch_and_process_data():\n",
    "    weather_response = get_weather_api()\n",
    "    if weather_response is not None:\n",
    "        weather_df = create_dataframe(weather_response)\n",
    "        upload_to_bucket(weather_response)\n",
    "        transformed_weather_df = standardise_weather_df_columns(weather_df)\n",
    "    return transformed_weather_df\n"
   ]
  },
  {
   "cell_type": "code",
   "execution_count": null,
   "metadata": {},
   "outputs": [],
   "source": []
  },
  {
   "cell_type": "code",
   "execution_count": 4,
   "metadata": {},
   "outputs": [],
   "source": [
    "json_response = {'request': {'type': 'City', 'query': 'Leicester, United Kingdom', 'language': 'en', 'unit': 'm'}, 'location': {'name': 'Leicester', 'country': 'United Kingdom', 'region': 'Leicestershire', 'lat': '52.635', 'lon': '-1.137', \n",
    "'timezone_id': 'Europe/London', 'localtime': '2024-07-09 20:17', 'localtime_epoch': 1720556220, 'utc_offset': '1.0'}, \n",
    "'current': {'observation_time': '07:17 PM', 'temperature': 20, 'weather_code': 116, \n",
    "'weather_icons': ['https://cdn.worldweatheronline.com/images/wsymbols01_png_64/wsymbol_0002_sunny_intervals.png'], \n",
    "'weather_descriptions': ['Partly cloudy'], 'wind_speed': 15, 'wind_degree': 170, 'wind_dir': 'S', 'pressure': 1007, 'precip': 0, 'humidity': 83, 'cloudcover': 75, 'feelslike': 20, \n",
    "'uv_index': 4, 'visibility': 10, 'is_day': 'yes'}}\n"
   ]
  },
  {
   "cell_type": "markdown",
   "metadata": {},
   "source": [
    "\n",
    "There are various data analyses that can be performed using the JSON response provided. The JSON response contains detailed weather information, and by aggregating data over time or from multiple locations, you can derive insightful analytics. Below are some of the potential analyses:\n",
    "\n",
    "1. Descriptive Statistics\n",
    "Temperature Trends: Analyze daily, weekly, and monthly average temperatures to identify trends.\n",
    "Humidity Levels: Track average, minimum, and maximum humidity levels over time.\n",
    "Wind Speed and Direction: Analyze the distribution and trends of wind speed and direction.\n",
    "\n",
    "2. Weather Patterns and Anomalies\n",
    "Weather Conditions Frequency: Calculate the frequency of different weather descriptions (e.g., 'Partly cloudy', 'Sunny').\n",
    "Anomaly Detection: Identify unusual weather patterns, such as sudden drops in temperature or unexpected precipitation.\n",
    "\n",
    "3. Time Series Analysis\n",
    "Seasonal Trends: Identify seasonal patterns in temperature, humidity, and other weather parameters.\n",
    "Moving Averages: Compute moving averages for smoothing temperature and humidity data to understand long-term trends.\n",
    "\n",
    "4. Correlation Analysis\n",
    "Correlation Between Parameters: Study correlations between different weather parameters, such as temperature and humidity, or wind speed and cloud cover.\n",
    "Impact on Visibility: Analyze how weather conditions (e.g., humidity, precipitation) affect visibility.\n",
    "\n",
    "5. Comparative Analysis\n",
    "Comparison Across Locations: If data from multiple locations is available, compare weather conditions across different cities or regions.\n",
    "Historical Comparison: Compare current weather data with historical data to understand changes and trends over the years.\n",
    "\n",
    "6. Predictive Analysis\n",
    "Weather Forecasting: Use historical weather data to build predictive models for forecasting future weather conditions.\n",
    "Trend Extrapolation: Extrapolate current trends to predict future weather patterns.\n",
    "\n",
    "7. Geospatial Analysis\n",
    "Mapping Weather Conditions: Visualize weather data on a map to see spatial distribution and patterns.\n",
    "Heatmaps: Create heatmaps for temperature, humidity, and other parameters to identify hotspots.\n",
    "\n",
    "8. Health and Safety Insights\n",
    "UV Index Analysis: Analyze the UV index to understand the potential risk for skin exposure.\n",
    "Weather Impact on Health: Study how different weather conditions (e.g., high humidity, low temperatures) correlate with health issues or emergency service calls.\n",
    "\n",
    "9. Climate Change Analysis\n",
    "Long-term Trends: Track long-term trends in temperature, precipitation, and other parameters to study the impact of climate change.\n",
    "Extreme Weather Events: Analyze the frequency and intensity of extreme weather events over time."
   ]
  }
 ],
 "metadata": {
  "kernelspec": {
   "display_name": "data_eng",
   "language": "python",
   "name": "python3"
  },
  "language_info": {
   "codemirror_mode": {
    "name": "ipython",
    "version": 3
   },
   "file_extension": ".py",
   "mimetype": "text/x-python",
   "name": "python",
   "nbconvert_exporter": "python",
   "pygments_lexer": "ipython3",
   "version": "3.11.7"
  }
 },
 "nbformat": 4,
 "nbformat_minor": 2
}
