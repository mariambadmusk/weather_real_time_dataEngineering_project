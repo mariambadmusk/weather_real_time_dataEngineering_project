{
 "cells": [
  {
   "cell_type": "code",
   "execution_count": 1,
   "metadata": {},
   "outputs": [],
   "source": [
    "import requests\n",
    "import pandas as pd\n",
    "from datetime import datetime\n",
    "from IPython.core.display import display,HTML"
   ]
  },
  {
   "cell_type": "code",
   "execution_count": null,
   "metadata": {},
   "outputs": [],
   "source": [
    "url = \"http://api.weatherstack.com/current?access_key=5d8a1681d214626066c9faae522508e4\"\n",
    "querystring = {\"query\": \"London\"}\n",
    "\n",
    "try:\n",
    "    response = requests.get(url, params=querystring)\n",
    "    response.raise_for_status()\n",
    "    json_response = response.json()\n",
    "except Exception as e:\n",
    "    print(\"get request failed\")\n"
   ]
  },
  {
   "cell_type": "code",
   "execution_count": 2,
   "metadata": {},
   "outputs": [],
   "source": [
    "response = {'request': {'type': 'City', 'query': 'Leicester, United Kingdom', 'language': 'en', 'unit': 'm'}, 'location': {'name': 'Leicester', 'country': 'United Kingdom', 'region': 'Leicestershire', 'lat': '52.635', 'lon': '-1.137', \n",
    "'timezone_id': 'Europe/London', 'localtime': '2024-07-09 20:17', 'localtime_epoch': 1720556220, 'utc_offset': '1.0'}, \n",
    "'current': {'observation_time': '07:17 PM', 'temperature': 20, 'weather_code': 116, \n",
    "'weather_icons': ['https://cdn.worldweatheronline.com/images/wsymbols01_png_64/wsymbol_0002_sunny_intervals.png'], \n",
    "'weather_descriptions': ['Partly cloudy'], 'wind_speed': 15, 'wind_degree': 170, 'wind_dir': 'S', 'pressure': 1007, 'precip': 0, 'humidity': 83, 'cloudcover': 75, 'feelslike': 20, \n",
    "'uv_index': 4, 'visibility': 10, 'is_day': 'yes'}}\n"
   ]
  },
  {
   "cell_type": "code",
   "execution_count": null,
   "metadata": {},
   "outputs": [],
   "source": [
    "weather_data = pd.DataFrame(json_response, columns = \"city\" : response[\"request\"][\"query\"],\n",
    "                                \"local_time\": response[\"location\"][\"localtime\"], \n",
    "                                \"observation_time\" : response[\"current\"][\"observation_time\"],\n",
    "                                \"temperature\" : response[\"current\"][\"temperature\"],\n",
    "                                \"weather_description\" : response[\"current\"][\"weather_descriptions\"],\n",
    "                                \"wind_speed\" : response[\"current\"][\"wind_speed\"],\n",
    "                                \"wind_degree\" : response[\"current\"][\"wind_degree\"],\n",
    "                                \"precipitation\" : response[\"current\"][\"precip\"],\n",
    "                                \"humidity\" : response[\"current\"][\"humidity\"],\n",
    "                                \"cloudcover\" : response[\"current\"][\"cloudcover\"],\n",
    "                                \"feelslike\" : response[\"current\"][\"feelslike\"],\n",
    "                                \"uv_index\" : response[\"current\"][\"uv_index\"],\n",
    "                                \"visibility\" : response[\"current\"][\"visibility\"],\n",
    "                                \"weather_image\" : response[\"current\"][\"weather_icons\"], \n",
    "                                })"
   ]
  },
  {
   "cell_type": "code",
   "execution_count": null,
   "metadata": {},
   "outputs": [],
   "source": [
    "weather_data[['localDate', 'localTime']] = weather_data['localtime'].str.split(' ', expand=True)"
   ]
  },
  {
   "cell_type": "code",
   "execution_count": null,
   "metadata": {},
   "outputs": [],
   "source": [
    "weather_data.drop([\"localtime\"], inplace = True)"
   ]
  },
  {
   "cell_type": "code",
   "execution_count": null,
   "metadata": {},
   "outputs": [],
   "source": [
    "weather_data['localTime'] = datetime.strptime(weather_data['localTime'], '%I:%M:%S %p')\n",
    "weather_data['localTime'] = datetime.strftime(weather_data['localTime'], '%H:%M:%S')"
   ]
  },
  {
   "cell_type": "code",
   "execution_count": null,
   "metadata": {},
   "outputs": [],
   "source": [
    "#standardise the wind_Speed from km/h to m/h according to the UK standard\n",
    "weather_data[\"wind_speed\"] = weather_data[\"wind_speed\"] * 1000"
   ]
  },
  {
   "cell_type": "code",
   "execution_count": 3,
   "metadata": {},
   "outputs": [
    {
     "name": "stdout",
     "output_type": "stream",
     "text": [
      "Leicester, United Kingdom\n"
     ]
    }
   ],
   "source": [
    "def path_to_img(path):\n",
    "    return '<img_src = \"'+ path +'\"  width = \"50\">'"
   ]
  },
  {
   "cell_type": "code",
   "execution_count": null,
   "metadata": {},
   "outputs": [],
   "source": [
    "display(HTML(weather_data.to_html(escape=False, formatters = dict(weather_image=path_to_img))))"
   ]
  },
  {
   "cell_type": "code",
   "execution_count": null,
   "metadata": {},
   "outputs": [],
   "source": []
  },
  {
   "cell_type": "markdown",
   "metadata": {},
   "source": [
    "\n",
    "There are various data analyses that can be performed using the JSON response provided. The JSON response contains detailed weather information, and by aggregating data over time or from multiple locations, you can derive insightful analytics. Below are some of the potential analyses:\n",
    "\n",
    "1. Descriptive Statistics\n",
    "Temperature Trends: Analyze daily, weekly, and monthly average temperatures to identify trends.\n",
    "Humidity Levels: Track average, minimum, and maximum humidity levels over time.\n",
    "Wind Speed and Direction: Analyze the distribution and trends of wind speed and direction.\n",
    "\n",
    "2. Weather Patterns and Anomalies\n",
    "Weather Conditions Frequency: Calculate the frequency of different weather descriptions (e.g., 'Partly cloudy', 'Sunny').\n",
    "Anomaly Detection: Identify unusual weather patterns, such as sudden drops in temperature or unexpected precipitation.\n",
    "\n",
    "3. Time Series Analysis\n",
    "Seasonal Trends: Identify seasonal patterns in temperature, humidity, and other weather parameters.\n",
    "Moving Averages: Compute moving averages for smoothing temperature and humidity data to understand long-term trends.\n",
    "\n",
    "4. Correlation Analysis\n",
    "Correlation Between Parameters: Study correlations between different weather parameters, such as temperature and humidity, or wind speed and cloud cover.\n",
    "Impact on Visibility: Analyze how weather conditions (e.g., humidity, precipitation) affect visibility.\n",
    "\n",
    "5. Comparative Analysis\n",
    "Comparison Across Locations: If data from multiple locations is available, compare weather conditions across different cities or regions.\n",
    "Historical Comparison: Compare current weather data with historical data to understand changes and trends over the years.\n",
    "\n",
    "6. Predictive Analysis\n",
    "Weather Forecasting: Use historical weather data to build predictive models for forecasting future weather conditions.\n",
    "Trend Extrapolation: Extrapolate current trends to predict future weather patterns.\n",
    "\n",
    "7. Geospatial Analysis\n",
    "Mapping Weather Conditions: Visualize weather data on a map to see spatial distribution and patterns.\n",
    "Heatmaps: Create heatmaps for temperature, humidity, and other parameters to identify hotspots.\n",
    "\n",
    "8. Health and Safety Insights\n",
    "UV Index Analysis: Analyze the UV index to understand the potential risk for skin exposure.\n",
    "Weather Impact on Health: Study how different weather conditions (e.g., high humidity, low temperatures) correlate with health issues or emergency service calls.\n",
    "\n",
    "9. Climate Change Analysis\n",
    "Long-term Trends: Track long-term trends in temperature, precipitation, and other parameters to study the impact of climate change.\n",
    "Extreme Weather Events: Analyze the frequency and intensity of extreme weather events over time."
   ]
  }
 ],
 "metadata": {
  "kernelspec": {
   "display_name": "data_eng",
   "language": "python",
   "name": "python3"
  },
  "language_info": {
   "codemirror_mode": {
    "name": "ipython",
    "version": 3
   },
   "file_extension": ".py",
   "mimetype": "text/x-python",
   "name": "python",
   "nbconvert_exporter": "python",
   "pygments_lexer": "ipython3",
   "version": "3.12.3"
  }
 },
 "nbformat": 4,
 "nbformat_minor": 2
}
