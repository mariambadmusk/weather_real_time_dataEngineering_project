{
 "cells": [
  {
   "cell_type": "code",
   "execution_count": null,
   "metadata": {},
   "outputs": [],
   "source": [
    "import requests\n",
    "import boto3\n",
    "from botocore.exceptions import NoCredentialsError, PartialCredentialsError\n",
    "import os\n",
    "from dotenv import load_dotenv"
   ]
  },
  {
   "cell_type": "code",
   "execution_count": null,
   "metadata": {},
   "outputs": [],
   "source": [
    "load_dotenv\n",
    "\n",
    "aws_access_key = os.getenv('AWS_ACCESS_KEY_ID')\n",
    "aws_secret_key= os.getenv('AWS_SECRET_ACCESS_KEY')"
   ]
  },
  {
   "cell_type": "code",
   "execution_count": null,
   "metadata": {},
   "outputs": [],
   "source": [
    "def get_weather_api():\n",
    "    url = \"http://api.weatherstack.com/current\"\n",
    "    querystring = {\"access_key\" : weather_access_key, \"query\": \"London\"}\n",
    "\n",
    "    try:\n",
    "        response = requests.get(url, params=querystring)\n",
    "        response.raise_for_status()\n",
    "        return response.json()\n",
    "    except requests.exceptions.RequestException as e:\n",
    "        print(f\"Request failed: {e}\")\n",
    "        return None\n"
   ]
  },
  {
   "cell_type": "code",
   "execution_count": null,
   "metadata": {},
   "outputs": [],
   "source": [
    "def create_dataframe():\n",
    "    data = [[\n",
    "        (json_response[\"location\"][\"localtime\"]), \n",
    "        (json_response[\"current\"][\"observation_time\"]), \n",
    "        (json_response[\"current\"][\"temperature\"]), \n",
    "        (json_response[\"current\"][\"weather_descriptions\"][0]), \n",
    "        (json_response[\"current\"][\"wind_speed\"]), \n",
    "        (json_response[\"current\"][\"wind_degree\"]), \n",
    "        (json_response[\"current\"][\"precip\"]), \n",
    "        (json_response[\"current\"][\"humidity\"]), \n",
    "        (json_response[\"current\"][\"cloudcover\"]), \n",
    "        (json_response[\"current\"][\"feelslike\"]), \n",
    "        (json_response[\"current\"][\"uv_index\"]), \n",
    "        (json_response[\"current\"][\"visibility\"])\n",
    "        ]]\n",
    "    \n",
    "    columns = StructType([\n",
    "    StructField(\"local_time\", StringType(), True),\n",
    "    StructField(\"observation_time\", StringType(), True),\n",
    "    StructField(\"temperature\", IntegerType(), True),\n",
    "    StructField(\"weather_description\", StringType(), True),\n",
    "    StructField(\"wind_speed\", IntegerType(), True),\n",
    "    StructField(\"wind_degree\", IntegerType(), True),\n",
    "    StructField(\"precipitation\", IntegerType(), True),\n",
    "    StructField(\"humidity\", IntegerType(), True),\n",
    "    StructField(\"cloudcover\", IntegerType(), True),\n",
    "    StructField(\"feelslike\", IntegerType(), True),\n",
    "    StructField(\"uv_index\", IntegerType(), True),\n",
    "    StructField(\"visibility\", IntegerType(), True)\n",
    "    ])\n",
    "    \n",
    "    weather_data = spark.createDataFrame(data, schema = columns)\n",
    "\n",
    "    return weather_data\n"
   ]
  },
  {
   "cell_type": "code",
   "execution_count": null,
   "metadata": {},
   "outputs": [],
   "source": [
    "def standardise_weather_df_columns():\n",
    "    \"\"\" \n",
    "    standardises the weather_df\n",
    "    - Splits 'local_time' into 'localDate' and 'localTime' columns.\n",
    "    - Converts 'observation_time' from 12-hour format to 24-hour format.\n",
    "    - Converts 'wind_speed' from km/h to m/h.\n",
    "\n",
    "    Parameters\n",
    "    pyspark.sql.DataFrame:  weather_df\n",
    "\n",
    "    Returns \n",
    "    pyspark.sql.DataFrame: The transformed weather DataFrame.\n",
    "    \"\"\"\n",
    "\n",
    "    #split local_time to date and time columns\n",
    "    weather_data = weather_data.withColumn(\"localDate\", F.split(weather_data[\"local_time\"], \"\\s+\").getItem(0))\n",
    "    weather_data = weather_data.withColumn(\"localTime\", F.split(weather_data[\"local_time\"], \"\\s+\").getItem(1))\n",
    "    weather_data = weather_data.drop(\"localDate\")\n",
    "\n",
    "    #change observation time from 12 hours to 24 hours\n",
    "    weather_data = weather_data.withColumn(\"observation_time\", \n",
    "                                       F.date_format(F.to_timestamp (\"observation_time\", \"hh:mm a\"), \"HH:mm\"))\n",
    "    \n",
    "    #converts the wind_speed from km/h to m/h \n",
    "    weather_data = weather_data.withColumn(\"wind_speed\", weather_data[\"wind_speed\"]/1.609)\n",
    "    \n"
   ]
  },
  {
   "cell_type": "code",
   "execution_count": null,
   "metadata": {},
   "outputs": [],
   "source": [
    "def upload_to_bucket(weather_data):\n",
    "\n",
    "    if weather_data is not None:\n",
    "        s3_client = boto3.client('s3',\n",
    "                         aws_access_key_id = aws_access_key,\n",
    "                         aws_secret_access_key =aws_secret_key,\n",
    "                         region_name='eu-west-2'\n",
    "                        )\n",
    "    \n",
    "        bucket = \"weather_data\"\n",
    "        object = \"raw_weather_data\"\n",
    "\n",
    "        try:\n",
    "            s3_client.put_object(\n",
    "                Bucket = bucket,\n",
    "                Key = object,\n",
    "                Body = weather_data.encode('utf-8')\n",
    "                ContentType = 'application/json'\n",
    "            )\n",
    "        except PartialCredentialsError:\n",
    "            print(\"Partial credentials provided, please check your access key and secret key\")\n",
    "        except NoCredentialsError:\n",
    "            print(\"Credentials not available or incorrect\")\n",
    "        except Exception as e:\n",
    "            print(f\"Upload to s3://weather_data/raw_weather_data failed: {e}\")\n",
    "\n",
    "\n",
    "    else:\n",
    "        print(\"No weather data to upload.\")\n",
    "        return "
   ]
  },
  {
   "cell_type": "code",
   "execution_count": null,
   "metadata": {},
   "outputs": [],
   "source": [
    "def fetch_and_process_data():\n",
    "    weather_response = get_weather_api()\n",
    "    if weather_response is not None:\n",
    "        weather_df = create_dataframe(weather_response)\n",
    "        upload_to_bucket(weather_response)\n",
    "        transformed_weather_df = standardise_weather_df_columns(weather_df)\n",
    "    return transformed_weather_df\n",
    "\n",
    "\n",
    "    \n"
   ]
  }
 ],
 "metadata": {
  "language_info": {
   "name": "python"
  }
 },
 "nbformat": 4,
 "nbformat_minor": 2
}
